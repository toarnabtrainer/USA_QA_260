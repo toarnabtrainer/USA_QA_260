{
 "cells": [
  {
   "cell_type": "markdown",
   "id": "329f09e1",
   "metadata": {},
   "source": [
    "## **Selenium Code Example - 3/3**"
   ]
  },
  {
   "cell_type": "markdown",
   "id": "aebd04bf",
   "metadata": {},
   "source": [
    "## **Selenium control options to write text, button press, dropdown list, checkbox and others**"
   ]
  },
  {
   "cell_type": "code",
   "execution_count": 1,
   "id": "c0d6fe76",
   "metadata": {},
   "outputs": [],
   "source": [
    "# importing all the required modules\n",
    "from selenium import webdriver\n",
    "from selenium.webdriver.chrome.service import Service"
   ]
  },
  {
   "cell_type": "code",
   "execution_count": 2,
   "id": "299302f0",
   "metadata": {},
   "outputs": [
    {
     "name": "stdout",
     "output_type": "stream",
     "text": [
      "4.10.0\n"
     ]
    }
   ],
   "source": [
    "# current version\n",
    "print (webdriver.__version__)"
   ]
  },
  {
   "cell_type": "code",
   "execution_count": 3,
   "id": "91551a65",
   "metadata": {},
   "outputs": [],
   "source": [
    "# now openning a new chrome instance controlled by the automation script\n",
    "service = Service(executable_path='./chromedriver.exe')\n",
    "options = webdriver.ChromeOptions()\n",
    "driver = webdriver.Chrome(service=service, options=options)"
   ]
  },
  {
   "cell_type": "code",
   "execution_count": 4,
   "id": "53e4e459",
   "metadata": {},
   "outputs": [],
   "source": [
    "# now we shall go for another web portal for our currency conversion\n",
    "# https://www.calculator.net/ => \"All Calculators\" => Click on \"Currency Calculator\"\n",
    "# so the final URL is \"https://www.calculator.net/currency-calculator.html\"\n",
    "driver.get(\"https://www.calculator.net/currency-calculator.html\")"
   ]
  },
  {
   "cell_type": "code",
   "execution_count": 6,
   "id": "b97fcbe4",
   "metadata": {},
   "outputs": [],
   "source": [
    "# import select and checkbox from selenium library to get HTML select tags\n",
    "from selenium.webdriver.support.ui import Select"
   ]
  },
  {
   "cell_type": "code",
   "execution_count": 8,
   "id": "4e8833b5",
   "metadata": {},
   "outputs": [],
   "source": [
    "# now select the FROM currency as INR and TO currency as USD from the drop down menu\n",
    "from_currency = Select(driver.find_element(\"id\", \"efrom\"))\n",
    "from_currency.select_by_visible_text(\"INR: Indian Rupee\")  # text visible to the user"
   ]
  },
  {
   "cell_type": "code",
   "execution_count": 9,
   "id": "8b79a339",
   "metadata": {},
   "outputs": [],
   "source": [
    "to_currency = Select(driver.find_element(\"id\", \"eto\"))\n",
    "to_currency.select_by_value(\"USD\")   # value is given inside the HTML text"
   ]
  },
  {
   "cell_type": "code",
   "execution_count": 10,
   "id": "4a84c6e1",
   "metadata": {},
   "outputs": [],
   "source": [
    "# put the amount 500 in the amount textbox\n",
    "amount_textbox = driver.find_element(\"id\", \"eamount\")\n",
    "# now clear this textbox at first and put the value there\n",
    "amount_textbox.clear()\n",
    "amount_textbox.send_keys('500')"
   ]
  },
  {
   "cell_type": "code",
   "execution_count": 11,
   "id": "9d5e3923",
   "metadata": {},
   "outputs": [],
   "source": [
    "# now click on the calculate button\n",
    "calculate_button = driver.find_element('xpath','//*[@id=\"standard\"]/tbody/tr[5]/td[2]/input[2]')\n",
    "calculate_button.click()"
   ]
  },
  {
   "cell_type": "code",
   "execution_count": 14,
   "id": "7351ad7c",
   "metadata": {},
   "outputs": [],
   "source": [
    "checkbox = driver.find_element('xpath', '//*[@id=\"ccmajorccsettingbox\"]')"
   ]
  },
  {
   "cell_type": "code",
   "execution_count": 15,
   "id": "dc039738",
   "metadata": {},
   "outputs": [],
   "source": [
    "# if this is already checked then uncheck it by the help of the java script\n",
    "if checkbox.is_selected():\n",
    "    driver.execute_script(\"arguments[0].click()\", checkbox)"
   ]
  },
  {
   "cell_type": "code",
   "execution_count": 16,
   "id": "64e912ad",
   "metadata": {},
   "outputs": [],
   "source": [
    "# change the from currency text to 'ZWL: Zimbawean Dollar'\n",
    "from_currency = Select(driver.find_element(\"id\", \"efrom\"))\n",
    "from_currency.select_by_value('ZWL')"
   ]
  },
  {
   "cell_type": "code",
   "execution_count": 17,
   "id": "b0b5924b",
   "metadata": {},
   "outputs": [],
   "source": [
    "# clear the textbox field and put the value 1000 there\n",
    "amount_textbox = driver.find_element(\"id\", \"eamount\")\n",
    "amount_textbox.clear()\n",
    "amount_textbox.send_keys('1000')"
   ]
  },
  {
   "cell_type": "code",
   "execution_count": 18,
   "id": "ffc9df14",
   "metadata": {},
   "outputs": [],
   "source": [
    "# click on the command button for the conversion calculation\n",
    "calculate_button = driver.find_element('xpath', '//*[@id=\"standard\"]/tbody/tr[5]/td[2]/input[2]')\n",
    "calculate_button.click()"
   ]
  },
  {
   "cell_type": "code",
   "execution_count": 19,
   "id": "3b1bc142",
   "metadata": {},
   "outputs": [],
   "source": [
    "# quit the chrome instance\n",
    "driver.quit()"
   ]
  },
  {
   "cell_type": "code",
   "execution_count": null,
   "id": "31953532",
   "metadata": {},
   "outputs": [],
   "source": []
  }
 ],
 "metadata": {
  "kernelspec": {
   "display_name": "Python 3 (ipykernel)",
   "language": "python",
   "name": "python3"
  },
  "language_info": {
   "codemirror_mode": {
    "name": "ipython",
    "version": 3
   },
   "file_extension": ".py",
   "mimetype": "text/x-python",
   "name": "python",
   "nbconvert_exporter": "python",
   "pygments_lexer": "ipython3",
   "version": "3.10.9"
  }
 },
 "nbformat": 4,
 "nbformat_minor": 5
}
