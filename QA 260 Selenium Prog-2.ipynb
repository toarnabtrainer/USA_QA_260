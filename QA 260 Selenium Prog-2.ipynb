{
 "cells": [
  {
   "cell_type": "markdown",
   "id": "76d22bab",
   "metadata": {},
   "source": [
    "## **Selenium Code Example - 2/3**"
   ]
  },
  {
   "cell_type": "markdown",
   "id": "2304dee3",
   "metadata": {},
   "source": [
    "## **Selenium control options to write text, button press, select menu and others**"
   ]
  },
  {
   "cell_type": "code",
   "execution_count": 1,
   "id": "d8a1b031-79fc-4ba9-9208-472371df6804",
   "metadata": {},
   "outputs": [],
   "source": [
    "# importing required modules\n",
    "from selenium import webdriver\n",
    "from selenium.webdriver.chrome.service import Service"
   ]
  },
  {
   "cell_type": "code",
   "execution_count": 2,
   "id": "1f819125-aa9b-46c4-9aba-6cc5144984a7",
   "metadata": {},
   "outputs": [
    {
     "name": "stdout",
     "output_type": "stream",
     "text": [
      "4.10.0\n"
     ]
    }
   ],
   "source": [
    "# also check the current version of the selenium\n",
    "print (webdriver.__version__)"
   ]
  },
  {
   "cell_type": "code",
   "execution_count": 3,
   "id": "73586c1c-703e-4706-b325-f31115685665",
   "metadata": {},
   "outputs": [],
   "source": [
    "# as the chrome driver is present in the current directory so need no path to access it\n",
    "service = Service(executable_path = './chromedriver.exe')\n",
    "options = webdriver.ChromeOptions()\n",
    "driver = webdriver.Chrome(service = service, options = options)"
   ]
  },
  {
   "cell_type": "code",
   "execution_count": null,
   "id": "d4c0848f-a617-4681-8776-22b26f96b55f",
   "metadata": {},
   "outputs": [],
   "source": [
    "# open the webportal to calculate nCr operation\n",
    "# https://www.calculatorsoup.com/ => Discrete Math => Combination Calculator (Get the web page)\n",
    "# Web URL: https://www.calculatorsoup.com/calculators/discretemathematics/combinations.php"
   ]
  },
  {
   "cell_type": "code",
   "execution_count": 5,
   "id": "17ebdc76-a4b1-4335-af17-9d373f93e63e",
   "metadata": {},
   "outputs": [],
   "source": [
    "URL = \"https://www.calculatorsoup.com/calculators/discretemathematics/combinations.php\"\n",
    "driver.get(URL)"
   ]
  },
  {
   "cell_type": "code",
   "execution_count": 10,
   "id": "224184f3-1f46-40c7-b54d-3f0ffbf20e0c",
   "metadata": {},
   "outputs": [],
   "source": [
    "n_input = driver.find_element(\"id\", \"n\")\n",
    "n_input.clear()\n",
    "n_input.send_keys('10')"
   ]
  },
  {
   "cell_type": "code",
   "execution_count": 11,
   "id": "beec644b-0898-4dd2-ab89-7b4717d6308e",
   "metadata": {},
   "outputs": [],
   "source": [
    "r_input = driver.find_element(\"id\", \"r\")\n",
    "r_input.clear()\n",
    "r_input.send_keys('5')"
   ]
  },
  {
   "cell_type": "code",
   "execution_count": 16,
   "id": "7fafc9ed-4b28-49a2-ae5e-4d1ecc8fe16c",
   "metadata": {},
   "outputs": [],
   "source": [
    "# to press keys, we can use following library\n",
    "from selenium.webdriver.common.keys import Keys\n",
    "\n",
    "# press TAB to go to the next input area\n",
    "n_input.send_keys(Keys.TAB)\n",
    "\n",
    "# select currently selected input area\n",
    "r_input = driver.switch_to.active_element\n",
    "\n",
    "# put the r value inside thr text box\n",
    "r_input.clear()\n",
    "r_input.send_keys('5')"
   ]
  },
  {
   "cell_type": "code",
   "execution_count": 17,
   "id": "3883e03b-be6a-4fb0-b2b5-adbaf0c5a04c",
   "metadata": {},
   "outputs": [],
   "source": [
    "# now go to the calculate button and click on it\n",
    "calculate_button = driver.find_element(\"id\", 'calculateButton')\n",
    "calculate_button.click()"
   ]
  },
  {
   "cell_type": "code",
   "execution_count": 27,
   "id": "06932c75-d2f8-4e98-aba8-f7e4e43fde94",
   "metadata": {},
   "outputs": [
    {
     "name": "stdout",
     "output_type": "stream",
     "text": [
      "252 <class 'int'>\n"
     ]
    }
   ],
   "source": [
    "# read the answer from the result area\n",
    "result_area = driver.find_element(\"id\", \"calculatorAnswer\")\n",
    "result = result_area.text\n",
    "result = int(result.split(\"\\n\")[1].split(\" \")[1])\n",
    "print (result, type(result))"
   ]
  },
  {
   "cell_type": "code",
   "execution_count": null,
   "id": "9a927188-2ef2-4072-a09a-4c775fbedb3a",
   "metadata": {},
   "outputs": [],
   "source": [
    "driver.quit()"
   ]
  },
  {
   "cell_type": "code",
   "execution_count": null,
   "id": "271c3e96-802f-4cdc-b4da-a4a84ef97b5e",
   "metadata": {},
   "outputs": [],
   "source": []
  }
 ],
 "metadata": {
  "kernelspec": {
   "display_name": "Python 3 (ipykernel)",
   "language": "python",
   "name": "python3"
  },
  "language_info": {
   "codemirror_mode": {
    "name": "ipython",
    "version": 3
   },
   "file_extension": ".py",
   "mimetype": "text/x-python",
   "name": "python",
   "nbconvert_exporter": "python",
   "pygments_lexer": "ipython3",
   "version": "3.10.9"
  }
 },
 "nbformat": 4,
 "nbformat_minor": 5
}
